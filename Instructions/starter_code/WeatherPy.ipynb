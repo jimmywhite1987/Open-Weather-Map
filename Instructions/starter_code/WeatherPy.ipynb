{
 "cells": [
  {
   "cell_type": "markdown",
   "metadata": {},
   "source": [
    "# WeatherPy\n",
    "----\n",
    "\n",
    "#### Note\n",
    "* Instructions have been included for each segment. You do not have to follow them exactly, but they are included to help you think through the steps."
   ]
  },
  {
   "cell_type": "code",
   "execution_count": 1,
   "metadata": {
    "scrolled": true
   },
   "outputs": [],
   "source": [
    "# Dependencies and Setup\n",
    "import matplotlib.pyplot as plt\n",
    "import pandas as pd\n",
    "import numpy as np\n",
    "import requests\n",
    "import time\n",
    "import scipy.stats as st\n",
    "from scipy.stats import linregress\n",
    "# Import API key\n",
    "from api_keys import weather_api_key\n",
    "\n",
    "# Incorporated citipy to determine city based on latitude and longitude\n",
    "from citipy import citipy\n",
    "\n",
    "# Output File (CSV)\n",
    "output_data_file = \"output_data/cities.csv\"\n",
    "\n",
    "# Range of latitudes and longitudes\n",
    "lat_range = (-90, 90)\n",
    "lng_range = (-180, 180)"
   ]
  },
  {
   "cell_type": "markdown",
   "metadata": {},
   "source": [
    "## Generate Cities List"
   ]
  },
  {
   "cell_type": "code",
   "execution_count": 2,
   "metadata": {},
   "outputs": [
    {
     "data": {
      "text/plain": [
       "605"
      ]
     },
     "execution_count": 2,
     "metadata": {},
     "output_type": "execute_result"
    }
   ],
   "source": [
    "# List for holding lat_lngs and cities\n",
    "lat_lngs = []\n",
    "cities = []\n",
    "\n",
    "# Create a set of random lat and lng combinations\n",
    "lats = np.random.uniform(lat_range[0], lat_range[1], size=1500)\n",
    "lngs = np.random.uniform(lng_range[0], lng_range[1], size=1500)\n",
    "lat_lngs = zip(lats, lngs)\n",
    "\n",
    "# Identify nearest city for each lat, lng combination\n",
    "for lat_lng in lat_lngs:\n",
    "    city = citipy.nearest_city(lat_lng[0], lat_lng[1]).city_name\n",
    "    \n",
    "    # If the city is unique, then add it to a our cities list\n",
    "    if city not in cities:\n",
    "        cities.append(city)\n",
    "\n",
    "# Print the city count to confirm sufficient count\n",
    "len(cities)"
   ]
  },
  {
   "cell_type": "markdown",
   "metadata": {},
   "source": [
    "### Perform API Calls\n",
    "* Perform a weather check on each city using a series of successive API calls.\n",
    "* Include a print log of each city as it'sbeing processed (with the city number and city name).\n"
   ]
  },
  {
   "cell_type": "code",
   "execution_count": 3,
   "metadata": {
    "scrolled": true
   },
   "outputs": [],
   "source": [
    "# Making sure the units are imperial and settings up the url for the api\n",
    "units = 'imperial'\n",
    "url = \"http://api.openweathermap.org/data/2.5/weather?\"    \n",
    "# Creating lists for the data that will be stored from the .json request\n",
    "lat = []\n",
    "long = []\n",
    "maxtemp = []\n",
    "humidity = []\n",
    "clouds = []\n",
    "wind_speed = []\n",
    "country = []\n",
    "new_city = []\n",
    "counter = 1"
   ]
  },
  {
   "cell_type": "code",
   "execution_count": 4,
   "metadata": {},
   "outputs": [
    {
     "name": "stdout",
     "output_type": "stream",
     "text": [
      "Beginning Data Retrieval:\n",
      "---------------------------\n",
      "Beginning Data Retrieval:\n",
      "---------------------------\n",
      "Processing Record  1 of Set 1 | Arraial do Cabo\n",
      "Processing Record  2 of Set 1 | Griffith\n",
      "Processing Record  3 of Set 1 | Kumul\n",
      "Processing Record  4 of Set 1 | Hobart\n",
      "Processing Record  5 of Set 1 | Lebu\n",
      "Processing Record  6 of Set 1 | Tuktoyaktuk\n",
      "Processing Record  7 of Set 1 | Rāvar\n",
      "Processing Record  8 of Set 1 | Rikitea\n",
      "Processing Record  9 of Set 1 | Kapaa\n",
      "Processing Record  10 of Set 1 | Klaksvík\n",
      "Processing Record  11 of Set 1 | Punta Arenas\n",
      "Processing Record  12 of Set 1 | Belmonte\n",
      "Processing Record  13 of Set 1 | Saint Paul Harbor\n",
      "Processing Record  14 of Set 1 | Gīdolē\n",
      "Processing Record  15 of Set 1 | Jamestown\n",
      "Processing Record  16 of Set 1 | Mataura\n",
      "Processing Record  17 of Set 1 | Prainha\n",
      "Processing Record  18 of Set 1 | Cape Town\n",
      "Processing Record  19 of Set 1 | Lompoc\n",
      "Processing Record  20 of Set 1 | Port Elizabeth\n",
      "Processing Record  21 of Set 1 | Ayna\n",
      "Processing Record  22 of Set 1 | Vila Franca do Campo\n",
      "Processing Record  23 of Set 1 | Millinocket\n",
      "Processing Record  24 of Set 1 | Roald\n",
      "Processing Record  25 of Set 1 | Tiksi\n",
      "Processing Record  26 of Set 1 | Torbay\n",
      "Processing Record  27 of Set 1 | Panguna\n",
      "Processing Record  28 of Set 1 | Bluff\n",
      "Processing Record  29 of Set 1 | Albany\n",
      "Processing Record  30 of Set 1 | Arrondissement de Rodez\n",
      "Processing Record  31 of Set 1 | Waipawa\n",
      "Processing Record  32 of Set 1 | Homer\n",
      "Processing Record  33 of Set 1 | Thompson\n",
      "Processing Record  34 of Set 1 | Padina\n",
      "Processing Record  35 of Set 1 | Upernavik\n",
      "Processing Record  36 of Set 1 | Pacific Grove\n",
      "Processing Record  37 of Set 1 | Pevek\n",
      "Processing Record  38 of Set 1 | Bengkulu\n",
      "Processing Record  39 of Set 1 | Chokurdakh\n",
      "Processing Record  40 of Set 1 | Kieta\n",
      "Processing Record  41 of Set 1 | Busselton\n",
      "Processing Record  42 of Set 1 | Avarua\n",
      "Processing Record  43 of Set 1 | Nikolskoye\n",
      "Processing Record  44 of Set 1 | Saint-Philippe\n",
      "Processing Record  45 of Set 1 | Port Alfred\n",
      "Processing Record  46 of Set 1 | Dutse\n",
      "Processing Record  47 of Set 1 | Mahébourg\n",
      "Processing Record  48 of Set 1 | Nova Olinda do Norte\n",
      "Processing Record  49 of Set 1 | Butaritari\n",
      "Processing Record  50 of Set 1 | Haines Junction\n",
      "Processing Record  51 of Set 1 | Atuona\n",
      "Processing Record  52 of Set 1 | Beringovskiy\n",
      "Processing Record  53 of Set 1 | Yellowknife\n",
      "Processing Record  54 of Set 1 | Wajima\n",
      "Processing Record  55 of Set 1 | Mitchell\n",
      "Processing Record  56 of Set 1 | Puerto Ayora\n",
      "Processing Record  57 of Set 1 | Mount Gambier\n",
      "Processing Record  58 of Set 1 | Marsh Harbour\n",
      "Processing Record  59 of Set 1 | Maunabo\n",
      "Processing Record  60 of Set 1 | Fortuna\n",
      "Processing Record  61 of Set 1 | East London\n",
      "Processing Record  62 of Set 1 | Manokwari\n",
      "Processing Record  63 of Set 1 | Puerto Colombia\n",
      "Processing Record  64 of Set 1 | Hilo\n",
      "Processing Record  65 of Set 1 | Dikson\n",
      "Processing Record  66 of Set 1 | Porto Torres\n",
      "Processing Record  67 of Set 1 | Yangi Marg`ilon\n",
      "Processing Record  68 of Set 1 | Sinnamary\n",
      "Processing Record  69 of Set 1 | Lubango\n",
      "Processing Record  70 of Set 1 | Candolim\n",
      "Processing Record  71 of Set 1 | Krasnomayskiy\n",
      "Processing Record  72 of Set 1 | Hasaki\n",
      "Processing Record  73 of Set 1 | Castro\n",
      "Processing Record  74 of Set 1 | Bredasdorp\n",
      "Processing Record  75 of Set 1 | Tessalit\n",
      "Processing Record  76 of Set 1 | Mana\n",
      "Processing Record  77 of Set 1 | Ushuaia\n",
      "Processing Record  78 of Set 1 | Hermanus\n",
      "Processing Record  79 of Set 1 | Arman'\n",
      "Processing Record  80 of Set 1 | Codrington\n",
      "Processing Record  81 of Set 1 | Santa Cruz de la Sierra\n",
      "Processing Record  82 of Set 1 | Nushki\n",
      "Processing Record  83 of Set 1 | The Pas\n",
      "Processing Record  84 of Set 1 | Flinders\n",
      "Processing Record  85 of Set 1 | Imst\n",
      "Processing Record  86 of Set 1 | Gull Lake\n",
      "Processing Record  87 of Set 1 | Tuatapere\n",
      "Processing Record  88 of Set 1 | Riviere-au-Renard\n",
      "Processing Record  89 of Set 1 | Vardø\n",
      "Processing Record  90 of Set 1 | Shunde\n",
      "Processing Record  91 of Set 1 | New Norfolk\n",
      "Processing Record  92 of Set 1 | Norman Wells\n",
      "Processing Record  93 of Set 1 | Brigantine\n",
      "Processing Record  94 of Set 1 | Estación Coahuila\n",
      "Processing Record  95 of Set 1 | Ovalle\n",
      "Processing Record  96 of Set 1 | Capitão Poço\n",
      "Processing Record  97 of Set 1 | Fort-Shevchenko\n",
      "Processing Record  98 of Set 1 | Whitecourt\n",
      "Processing Record  99 of Set 1 | Cabo San Lucas\n",
      "Processing Record  100 of Set 1 | Stettler\n",
      "Processing Record  101 of Set 1 | Ponta do Sol\n",
      "Processing Record  102 of Set 1 | Carutapera\n",
      "Processing Record  103 of Set 1 | Laguna\n",
      "Processing Record  104 of Set 1 | Sombrerete\n",
      "Processing Record  105 of Set 1 | Ribeira Grande\n",
      "Processing Record  106 of Set 1 | Sebrovo\n",
      "Processing Record  107 of Set 1 | Hong Kong\n",
      "Processing Record  108 of Set 1 | Lata\n",
      "Processing Record  109 of Set 1 | Hithadhoo\n",
      "Processing Record  110 of Set 1 | Narsaq\n",
      "Processing Record  111 of Set 1 | Barsovo\n",
      "Processing Record  112 of Set 1 | Kwang Binh\n",
      "Processing Record  113 of Set 1 | Saskylakh\n",
      "Processing Record  114 of Set 1 | Lagoa\n",
      "Processing Record  115 of Set 1 | Andenes\n",
      "Processing Record  116 of Set 1 | Tasiilaq\n",
      "Processing Record  117 of Set 1 | Gambēla\n",
      "Processing Record  118 of Set 1 | Bereda\n",
      "Processing Record  119 of Set 1 | Namatanai\n",
      "Processing Record  120 of Set 1 | Morros\n",
      "Processing Record  121 of Set 1 | Yambio\n",
      "Processing Record  122 of Set 1 | Zatoka\n",
      "Processing Record  123 of Set 1 | Pochutla\n",
      "Processing Record  124 of Set 1 | Temir\n",
      "Processing Record  125 of Set 1 | Cherskiy\n",
      "Processing Record  126 of Set 1 | Kalengwa\n",
      "Processing Record  127 of Set 1 | Santa\n",
      "Processing Record  128 of Set 1 | Bowen\n",
      "Processing Record  129 of Set 1 | Kuching\n",
      "Processing Record  130 of Set 1 | Anadyr\n",
      "Processing Record  131 of Set 1 | Alice Springs\n",
      "Processing Record  132 of Set 1 | Qaanaaq\n",
      "Processing Record  133 of Set 1 | Salalah\n",
      "Processing Record  134 of Set 1 | Makubetsu\n",
      "Processing Record  135 of Set 1 | Barrow\n",
      "Processing Record  136 of Set 1 | Iracoubo\n",
      "Processing Record  137 of Set 1 | Upington\n",
      "Processing Record  138 of Set 1 | Paraíso\n",
      "Processing Record  139 of Set 1 | Arcata\n",
      "Processing Record  140 of Set 1 | Ostrovnoy\n",
      "Processing Record  141 of Set 1 | Delījān\n",
      "Processing Record  142 of Set 1 | Ayan\n",
      "Processing Record  143 of Set 1 | Buala\n",
      "Processing Record  144 of Set 1 | Cidreira\n",
      "Processing Record  145 of Set 1 | Talnakh\n",
      "Processing Record  146 of Set 1 | Puerto del Rosario\n",
      "Processing Record  147 of Set 1 | Vaini\n",
      "Processing Record  148 of Set 1 | São Filipe\n",
      "Processing Record  149 of Set 1 | Khor\n",
      "Processing Record  150 of Set 1 | Domoni\n",
      "Processing Record  151 of Set 1 | Upata\n",
      "Processing Record  152 of Set 1 | Saldanha\n",
      "Processing Record  153 of Set 1 | Anagé\n",
      "Processing Record  154 of Set 1 | Severo-Kuril'sk\n",
      "Processing Record  155 of Set 1 | Karasuk\n",
      "Processing Record  156 of Set 1 | Kaitangata\n",
      "Processing Record  157 of Set 1 | Comodoro Rivadavia\n",
      "Processing Record  158 of Set 1 | Terrace Bay\n",
      "Processing Record  159 of Set 1 | Międzychód\n",
      "Processing Record  160 of Set 1 | Honiara\n",
      "Processing Record  161 of Set 1 | Guerrero Negro\n",
      "Processing Record  162 of Set 1 | Puerto Escondido\n",
      "Processing Record  163 of Set 1 | Cairns\n",
      "Processing Record  164 of Set 1 | Klyuchi\n",
      "Processing Record  165 of Set 1 | Batemans Bay\n",
      "Processing Record  166 of Set 1 | Grand Island\n",
      "Processing Record  167 of Set 1 | Khvorostyanka\n",
      "Processing Record  168 of Set 1 | Bandarbeyla\n",
      "Processing Record  169 of Set 1 | Mar del Plata\n",
      "Processing Record  170 of Set 1 | Adrar\n",
      "Processing Record  171 of Set 1 | Maltrata\n",
      "Processing Record  172 of Set 1 | Tonj\n",
      "Processing Record  173 of Set 1 | Abu Samrah\n",
      "Processing Record  174 of Set 1 | Korla\n",
      "Processing Record  175 of Set 1 | Kathu\n",
      "Processing Record  176 of Set 1 | Zemio\n",
      "Processing Record  177 of Set 1 | Sorong\n",
      "Processing Record  178 of Set 1 | De Aar\n",
      "Processing Record  179 of Set 1 | Kirakira\n",
      "Processing Record  180 of Set 1 | Radovitskiy\n",
      "Processing Record  181 of Set 1 | Turan\n",
      "Processing Record  182 of Set 1 | Novoagansk\n",
      "Processing Record  183 of Set 1 | Mikuni\n",
      "Processing Record  184 of Set 1 | Amga\n",
      "Processing Record  185 of Set 1 | Hesla\n",
      "Processing Record  186 of Set 1 | Linqiong\n",
      "Processing Record  187 of Set 1 | Patacamaya\n",
      "Processing Record  188 of Set 1 | Liuzhou\n"
     ]
    },
    {
     "name": "stdout",
     "output_type": "stream",
     "text": [
      "Processing Record  189 of Set 1 | Wanning\n",
      "Processing Record  190 of Set 1 | Pinhão\n",
      "Processing Record  191 of Set 1 | Port Hardy\n",
      "Processing Record  192 of Set 1 | Vao\n",
      "Processing Record  193 of Set 1 | Vila Velha\n",
      "Processing Record  194 of Set 1 | Carnarvon\n",
      "Processing Record  195 of Set 1 | Mareeba\n",
      "Processing Record  196 of Set 1 | Bulgan\n",
      "Processing Record  197 of Set 1 | Skjervøy\n",
      "Processing Record  198 of Set 1 | Marzuq\n",
      "Processing Record  199 of Set 1 | Bonavista\n",
      "Processing Record  200 of Set 1 | Hualmay\n",
      "Processing Record  201 of Set 1 | Bethel\n",
      "Processing Record  202 of Set 1 | Chebarkul'\n",
      "Processing Record  203 of Set 1 | Lüderitz\n",
      "Processing Record  204 of Set 1 | Impfondo\n",
      "Processing Record  205 of Set 1 | George Town\n",
      "Processing Record  206 of Set 1 | Labuhan\n",
      "Processing Record  207 of Set 1 | Aklavik\n",
      "Processing Record  208 of Set 1 | Bang Saphan\n",
      "Processing Record  209 of Set 1 | Provideniya\n",
      "Processing Record  210 of Set 1 | Paita\n",
      "Processing Record  211 of Set 1 | Nebbi\n",
      "Processing Record  212 of Set 1 | Killybegs\n",
      "Processing Record  213 of Set 1 | Matagami\n",
      "Processing Record  214 of Set 1 | Talara\n",
      "Processing Record  215 of Set 1 | Talas\n",
      "Processing Record  216 of Set 1 | Jaru\n",
      "Processing Record  217 of Set 1 | Lodhīkheda\n",
      "Processing Record  218 of Set 1 | Meulaboh\n",
      "Processing Record  219 of Set 1 | Eureka\n",
      "Processing Record  220 of Set 1 | Maceió\n",
      "Processing Record  221 of Set 1 | Kupang\n",
      "Processing Record  222 of Set 1 | Taoudenni\n",
      "Processing Record  223 of Set 1 | Lakes Entrance\n",
      "Processing Record  224 of Set 1 | Stornoway\n",
      "Processing Record  225 of Set 1 | Oktyabr'skiy\n",
      "Processing Record  226 of Set 1 | Port Keats\n",
      "Processing Record  227 of Set 1 | Kruisfontein\n",
      "Processing Record  228 of Set 1 | Dingle\n",
      "Processing Record  229 of Set 1 | Airai\n",
      "Processing Record  230 of Set 1 | Muros\n",
      "Processing Record  231 of Set 1 | Vilyuysk\n",
      "Processing Record  232 of Set 1 | Opuwo\n",
      "Processing Record  233 of Set 1 | Sortavala\n",
      "Processing Record  234 of Set 1 | Padang\n",
      "Processing Record  235 of Set 1 | Lewiston\n",
      "Processing Record  236 of Set 1 | Oranjemund\n",
      "Processing Record  237 of Set 1 | Yerbogachën\n",
      "Processing Record  238 of Set 1 | Dingzhou\n",
      "Processing Record  239 of Set 1 | Galle\n",
      "Processing Record  240 of Set 1 | Yumen\n",
      "Processing Record  241 of Set 1 | Saint-Joseph\n",
      "Processing Record  242 of Set 1 | Kinsale\n",
      "Processing Record  243 of Set 1 | Umm Kaddadah\n",
      "Processing Record  244 of Set 1 | Karligan\n",
      "Processing Record  245 of Set 1 | Askiz\n",
      "Processing Record  246 of Set 1 | Gaoua\n",
      "Processing Record  247 of Set 1 | Quatre Cocos\n",
      "Processing Record  248 of Set 1 | Manta\n",
      "Processing Record  249 of Set 1 | Khatanga\n",
      "Processing Record  250 of Set 1 | Ilulissat\n",
      "Processing Record  251 of Set 1 | Saint George\n",
      "Processing Record  252 of Set 1 | Tabou\n",
      "Processing Record  253 of Set 1 | Mahibadhoo\n",
      "Processing Record  254 of Set 1 | Pisco\n",
      "Processing Record  255 of Set 1 | Vinh\n",
      "Processing Record  256 of Set 1 | Grand Gaube\n",
      "Processing Record  257 of Set 1 | Dunedin\n",
      "Processing Record  258 of Set 1 | Beloha\n",
      "Processing Record  259 of Set 1 | Polunochnoye\n",
      "Processing Record  260 of Set 1 | Nome\n",
      "Processing Record  261 of Set 1 | Deder\n",
      "Processing Record  262 of Set 1 | Yilan\n",
      "Processing Record  263 of Set 1 | Los Llanos de Aridane\n",
      "Processing Record  264 of Set 1 | Urucará\n",
      "Processing Record  265 of Set 1 | Coron\n",
      "Processing Record  266 of Set 1 | Touros\n",
      "Processing Record  267 of Set 1 | Kahului\n",
      "Processing Record  268 of Set 1 | Diamantino\n",
      "Processing Record  269 of Set 1 | Pokrovskoye\n",
      "Processing Record  270 of Set 1 | North Platte\n",
      "Processing Record  271 of Set 1 | Ferrol\n",
      "Processing Record  272 of Set 1 | Ambilobe\n",
      "Processing Record  273 of Set 1 | Takhtamygda\n",
      "Processing Record  274 of Set 1 | Palana\n",
      "Processing Record  275 of Set 1 | Neustrelitz\n",
      "Processing Record  276 of Set 1 | Cobija\n",
      "Processing Record  277 of Set 1 | Yulara\n",
      "Processing Record  278 of Set 1 | Grindsted\n",
      "Processing Record  279 of Set 1 | Kigorobya\n",
      "Processing Record  280 of Set 1 | Salinópolis\n",
      "Processing Record  281 of Set 1 | Mēga\n",
      "Processing Record  282 of Set 1 | Brocēni\n",
      "Processing Record  283 of Set 1 | Utete\n",
      "Processing Record  284 of Set 1 | Husavik\n",
      "Processing Record  285 of Set 1 | Iqaluit\n",
      "Processing Record  286 of Set 1 | Waingapu\n",
      "Processing Record  287 of Set 1 | Menongue\n",
      "Processing Record  288 of Set 1 | Tuy Hoa\n",
      "Processing Record  289 of Set 1 | Enshi\n",
      "Processing Record  290 of Set 1 | Weligama\n",
      "Processing Record  291 of Set 1 | North Bay\n",
      "Processing Record  292 of Set 1 | Departamento de Maldonado\n",
      "Processing Record  293 of Set 1 | Libertador General San Martín\n",
      "Processing Record  294 of Set 1 | Rahā\n",
      "Processing Record  295 of Set 1 | Khovd\n",
      "Processing Record  296 of Set 1 | Shumskiy\n",
      "Processing Record  297 of Set 1 | Paciran\n",
      "Processing Record  298 of Set 1 | Praia da Vitória\n",
      "Processing Record  299 of Set 1 | Maniitsoq\n",
      "Processing Record  300 of Set 1 | Nishihara\n",
      "Processing Record  301 of Set 1 | Geraldton\n",
      "Processing Record  302 of Set 1 | Srednekolymsk\n",
      "Processing Record  303 of Set 1 | Xapuri\n",
      "Processing Record  304 of Set 1 | Najrān\n",
      "Processing Record  305 of Set 1 | Lorengau\n",
      "Processing Record  306 of Set 1 | Te Anau\n",
      "Processing Record  307 of Set 1 | North Myrtle Beach\n",
      "Processing Record  308 of Set 1 | Kitob\n",
      "Processing Record  309 of Set 1 | Maiduguri\n",
      "Processing Record  310 of Set 1 | Chicama\n",
      "Processing Record  311 of Set 1 | Thinadhoo\n",
      "Processing Record  312 of Set 1 | Yārāda\n",
      "Processing Record  313 of Set 1 | Mehamn\n",
      "Processing Record  314 of Set 1 | Bambous Virieux\n",
      "Processing Record  315 of Set 1 | Tomatlán\n",
      "Processing Record  316 of Set 1 | La Ronge\n",
      "Processing Record  317 of Set 1 | Sidi Ali\n",
      "Processing Record  318 of Set 1 | Dudinka\n",
      "Processing Record  319 of Set 1 | Ojinaga\n",
      "Processing Record  320 of Set 1 | Santiago del Estero\n",
      "Processing Record  321 of Set 1 | Sørland\n",
      "Processing Record  322 of Set 1 | Puerto Madryn\n",
      "Processing Record  323 of Set 1 | Ordzhonīkīdze\n",
      "Processing Record  324 of Set 1 | Makakilo City\n",
      "Processing Record  325 of Set 1 | Chui\n",
      "Processing Record  326 of Set 1 | San Patricio\n",
      "Processing Record  327 of Set 1 | Mina\n",
      "Processing Record  328 of Set 1 | Macapá\n",
      "Processing Record  329 of Set 1 | Ukiah\n",
      "Processing Record  330 of Set 1 | Kontagora\n",
      "Processing Record  331 of Set 1 | Dukat\n",
      "Processing Record  332 of Set 1 | ‘Āhuimanu\n",
      "Processing Record  333 of Set 1 | Sohag\n",
      "Processing Record  334 of Set 1 | Vagay\n",
      "Processing Record  335 of Set 1 | Zhuhai\n",
      "Processing Record  336 of Set 1 | Praia\n",
      "Processing Record  337 of Set 1 | Taltal\n",
      "Processing Record  338 of Set 1 | Saltillo\n",
      "Processing Record  339 of Set 1 | Katsuura\n",
      "Processing Record  340 of Set 1 | Esperance\n",
      "Processing Record  341 of Set 1 | Perth\n",
      "Processing Record  342 of Set 1 | Quelimane\n",
      "Processing Record  343 of Set 1 | Port Blair\n",
      "Processing Record  344 of Set 1 | Pemba\n",
      "Processing Record  345 of Set 1 | Río Gallegos\n",
      "Processing Record  346 of Set 1 | Aksarka\n",
      "Processing Record  347 of Set 1 | Shimoda\n",
      "Processing Record  348 of Set 1 | Riyadh\n",
      "Processing Record  349 of Set 1 | Nizhnyaya Tura\n",
      "Processing Record  350 of Set 1 | Poum\n",
      "Processing Record  351 of Set 1 | Evanston\n",
      "Processing Record  352 of Set 1 | Faanui\n",
      "Processing Record  353 of Set 1 | Safi\n",
      "Processing Record  354 of Set 1 | La Paz\n",
      "Processing Record  355 of Set 1 | Dovers\n",
      "Processing Record  356 of Set 1 | Kysyl-Syr\n",
      "Processing Record  357 of Set 1 | Naze\n",
      "Processing Record  358 of Set 1 | Hofn\n",
      "Processing Record  359 of Set 1 | Souillac\n",
      "Processing Record  360 of Set 1 | Rio Grande\n",
      "Processing Record  361 of Set 1 | Moussoro\n",
      "Processing Record  362 of Set 1 | Smidovich\n",
      "Processing Record  363 of Set 1 | Yar-Sale\n",
      "Processing Record  364 of Set 1 | San Ramon\n",
      "Processing Record  365 of Set 1 | Port Lincoln\n",
      "Processing Record  366 of Set 1 | Noumea\n",
      "Processing Record  367 of Set 1 | Lilongwe\n",
      "Processing Record  368 of Set 1 | Piedecuesta\n",
      "Processing Record  369 of Set 1 | Bilma\n",
      "Processing Record  370 of Set 1 | Portland\n",
      "Processing Record  371 of Set 1 | Kamenka\n",
      "Processing Record  372 of Set 1 | Turukhansk\n",
      "Processing Record  373 of Set 1 | Bodden Town\n",
      "Processing Record  374 of Set 1 | Wattegama\n",
      "Processing Record  375 of Set 1 | Vietri sul Mare\n",
      "Processing Record  376 of Set 1 | Richards Bay\n",
      "Processing Record  377 of Set 1 | Tsimmerbude\n",
      "Processing Record  378 of Set 1 | Qinzhou\n"
     ]
    },
    {
     "name": "stdout",
     "output_type": "stream",
     "text": [
      "Processing Record  379 of Set 1 | Byron Bay\n",
      "Processing Record  380 of Set 1 | Hua Hin\n",
      "Processing Record  381 of Set 1 | Ixtapa\n",
      "Processing Record  382 of Set 1 | Newport\n",
      "Processing Record  383 of Set 1 | Cascais\n",
      "Processing Record  384 of Set 1 | Turbat\n",
      "Processing Record  385 of Set 1 | Morondava\n",
      "Processing Record  386 of Set 1 | Narok\n",
      "Processing Record  387 of Set 1 | Badvel\n",
      "Processing Record  388 of Set 1 | Limbang\n",
      "Processing Record  389 of Set 1 | Tual\n",
      "Processing Record  390 of Set 1 | Grindavik\n",
      "Processing Record  391 of Set 1 | Fougamou\n",
      "Processing Record  392 of Set 1 | Kattivākkam\n",
      "Processing Record  393 of Set 1 | Requena\n",
      "Processing Record  394 of Set 1 | Karakol\n",
      "Processing Record  395 of Set 1 | Tiarei\n",
      "Processing Record  396 of Set 1 | Mocuba\n",
      "Processing Record  397 of Set 1 | Isangel\n",
      "Processing Record  398 of Set 1 | Beroroha\n",
      "Processing Record  399 of Set 1 | Bayangol\n",
      "Processing Record  400 of Set 1 | Zamānia\n",
      "Processing Record  401 of Set 1 | São João da Barra\n",
      "Processing Record  402 of Set 1 | Liverpool\n",
      "Processing Record  403 of Set 1 | Deputatsky\n",
      "Processing Record  404 of Set 1 | Kiruna\n",
      "Processing Record  405 of Set 1 | Great Falls\n",
      "Processing Record  406 of Set 1 | Verkhoyansk\n",
      "Processing Record  407 of Set 1 | Clyde River\n",
      "Processing Record  408 of Set 1 | Nhulunbuy\n",
      "Processing Record  409 of Set 1 | Abadiânia\n",
      "Processing Record  410 of Set 1 | Doka\n",
      "Processing Record  411 of Set 1 | Caborca\n",
      "Processing Record  412 of Set 1 | Coquimbo\n",
      "Processing Record  413 of Set 1 | Catemaco\n",
      "Processing Record  414 of Set 1 | Haimen\n",
      "Processing Record  415 of Set 1 | Rocha\n",
      "Processing Record  416 of Set 1 | Malanje\n",
      "Processing Record  417 of Set 1 | Awjilah\n",
      "Processing Record  418 of Set 1 | Mangai\n",
      "Processing Record  419 of Set 1 | Vrangel'\n",
      "Processing Record  420 of Set 1 | Sitka\n",
      "Processing Record  421 of Set 1 | Longyearbyen\n",
      "Processing Record  422 of Set 1 | Qandala\n",
      "Processing Record  423 of Set 1 | Hohhot\n",
      "Processing Record  424 of Set 1 | Santoña\n",
      "Processing Record  425 of Set 1 | Boa Vista\n",
      "Processing Record  426 of Set 1 | Kadnikov\n",
      "Processing Record  427 of Set 1 | Swan Hill\n",
      "Processing Record  428 of Set 1 | Huancavelica\n",
      "Processing Record  429 of Set 1 | Mount Isa\n",
      "Processing Record  430 of Set 1 | Wanlaweyn\n",
      "Processing Record  431 of Set 1 | Torrelavega\n",
      "Processing Record  432 of Set 1 | Melipilla\n",
      "Processing Record  433 of Set 1 | Strezhevoy\n",
      "Processing Record  434 of Set 1 | Kavieng\n",
      "Processing Record  435 of Set 1 | Prudy\n",
      "Processing Record  436 of Set 1 | Province of Groningen\n",
      "Processing Record  437 of Set 1 | Hriňová\n",
      "Processing Record  438 of Set 1 | Tadine\n",
      "Processing Record  439 of Set 1 | Saint-Leu\n",
      "Processing Record  440 of Set 1 | Neuquén\n",
      "Processing Record  441 of Set 1 | Putyatino\n",
      "Processing Record  442 of Set 1 | Ancud\n",
      "Processing Record  443 of Set 1 | Ribeira Brava\n",
      "Processing Record  444 of Set 1 | Ayagoz\n",
      "Processing Record  445 of Set 1 | Chipata\n",
      "Processing Record  446 of Set 1 | Kloulklubed\n",
      "Processing Record  447 of Set 1 | Tilichiki\n",
      "Processing Record  448 of Set 1 | Tura\n",
      "Processing Record  449 of Set 1 | Nísia Floresta\n",
      "Processing Record  450 of Set 1 | Guayaramerín\n",
      "Processing Record  451 of Set 1 | Nemuro\n",
      "Processing Record  452 of Set 1 | Am Timan\n",
      "Processing Record  453 of Set 1 | Xiantao\n",
      "Processing Record  454 of Set 1 | Hamilton\n",
      "Processing Record  455 of Set 1 | Manado\n",
      "Processing Record  456 of Set 1 | Kavaratti\n",
      "Processing Record  457 of Set 1 | Alofi\n",
      "Processing Record  458 of Set 1 | Christchurch\n",
      "Processing Record  459 of Set 1 | Smithers\n",
      "Processing Record  460 of Set 1 | Soria\n",
      "Processing Record  461 of Set 1 | Nsanje\n",
      "Processing Record  462 of Set 1 | Hambantota\n",
      "Processing Record  463 of Set 1 | Villa Rica\n",
      "Processing Record  464 of Set 1 | São Paulo de Olivença\n",
      "Processing Record  465 of Set 1 | Goya\n",
      "Processing Record  466 of Set 1 | Half Moon Bay\n",
      "Processing Record  467 of Set 1 | Mitsamiouli\n",
      "Processing Record  468 of Set 1 | Poya\n",
      "Processing Record  469 of Set 1 | Ajdabiya\n",
      "Processing Record  470 of Set 1 | Caravelas\n",
      "Processing Record  471 of Set 1 | Saint Anthony\n",
      "Processing Record  472 of Set 1 | Constitución\n",
      "Processing Record  473 of Set 1 | Bay Roberts\n",
      "Processing Record  474 of Set 1 | Korem\n",
      "Processing Record  475 of Set 1 | Marsá Maţrūḩ\n",
      "Processing Record  476 of Set 1 | Olafsvik\n",
      "Processing Record  477 of Set 1 | Kidodi\n",
      "Processing Record  478 of Set 1 | Muli\n",
      "Processing Record  479 of Set 1 | Burnie\n",
      "Processing Record  480 of Set 1 | Dillon\n",
      "Processing Record  481 of Set 1 | Barra do Garças\n",
      "Processing Record  482 of Set 1 | Lucea\n",
      "Processing Record  483 of Set 1 | Benguela\n",
      "Processing Record  484 of Set 1 | Kindia\n",
      "Processing Record  485 of Set 1 | Santa Maria\n",
      "Processing Record  486 of Set 1 | Denpasar\n",
      "Processing Record  487 of Set 1 | Angoche\n",
      "Processing Record  488 of Set 1 | Mattru\n",
      "Processing Record  489 of Set 1 | Araure\n",
      "Processing Record  490 of Set 1 | Dhuwaran\n",
      "Processing Record  491 of Set 1 | Shelburne\n",
      "Processing Record  492 of Set 1 | Amalāpuram\n",
      "Processing Record  493 of Set 1 | Meybod\n",
      "Processing Record  494 of Set 1 | Sept-Îles\n",
      "Processing Record  495 of Set 1 | Saint-Pierre\n",
      "Processing Record  496 of Set 1 | Sola\n",
      "Processing Record  497 of Set 1 | Slave Lake\n",
      "Processing Record  498 of Set 1 | Gaoual\n",
      "Processing Record  499 of Set 1 | Sechura\n",
      "Processing Record  500 of Set 1 | Hastings\n",
      "Processing Record  501 of Set 1 | Garoowe\n",
      "Processing Record  502 of Set 1 | Janów Lubelski\n",
      "Processing Record  503 of Set 1 | Narrabri\n",
      "Processing Record  504 of Set 1 | Simao\n",
      "Processing Record  505 of Set 1 | Araouane\n",
      "Processing Record  506 of Set 1 | Contai\n",
      "Processing Record  507 of Set 1 | Chhāpar\n",
      "Processing Record  508 of Set 1 | Santo Antônio do Içá\n",
      "Processing Record  509 of Set 1 | São José da Coroa Grande\n",
      "Processing Record  510 of Set 1 | Antalaha\n",
      "Processing Record  511 of Set 1 | Geelong\n",
      "Processing Record  512 of Set 1 | San Andrés\n",
      "Processing Record  513 of Set 1 | Ust-Maya\n",
      "Processing Record  514 of Set 1 | Avila\n",
      "Processing Record  515 of Set 1 | Cocobeach\n",
      "Processing Record  516 of Set 1 | Acapulco de Juárez\n",
      "Processing Record  517 of Set 1 | Aktau\n",
      "Processing Record  518 of Set 1 | Mogadishu\n",
      "Processing Record  519 of Set 1 | Burgeo\n",
      "Processing Record  520 of Set 1 | Kankan\n",
      "Processing Record  521 of Set 1 | Leningradskiy\n",
      "Processing Record  522 of Set 1 | Price\n",
      "Processing Record  523 of Set 1 | Arrondissement de Moulins\n",
      "Processing Record  524 of Set 1 | Kiama\n",
      "Processing Record  525 of Set 1 | Nantucket\n",
      "Processing Record  526 of Set 1 | Spirit River\n",
      "Processing Record  527 of Set 1 | Victoria Point\n",
      "Processing Record  528 of Set 1 | San Rafael\n",
      "Processing Record  529 of Set 1 | Hokitika\n",
      "Processing Record  530 of Set 1 | Qasigiannguit\n",
      "Processing Record  531 of Set 1 | San Quintín\n",
      "Processing Record  532 of Set 1 | Mahon\n",
      "Processing Record  533 of Set 1 | Kaputa\n",
      "Processing Record  534 of Set 1 | Itamarandiba\n",
      "Processing Record  535 of Set 1 | Guozhen\n",
      "Processing Record  536 of Set 1 | Nuşfalău\n",
      "Processing Record  537 of Set 1 | Orlovskiy\n",
      "Processing Record  538 of Set 1 | Terra Santa\n",
      "Processing Record  539 of Set 1 | Cam Ranh\n",
      "Processing Record  540 of Set 1 | Uri\n",
      "Processing Record  541 of Set 1 | Labuan\n",
      "Processing Record  542 of Set 1 | Marawi\n",
      "Processing Record  543 of Set 1 | Locri\n",
      "Processing Record  544 of Set 1 | Leirvik\n",
      "Processing Record  545 of Set 1 | Kasempa\n",
      "Processing Record  546 of Set 1 | Palu\n",
      "Processing Record  547 of Set 1 | Black River\n",
      "Processing Record  548 of Set 1 | Ust-Kuyga\n",
      "Processing Record  549 of Set 1 | Marshall\n",
      "Processing Record  550 of Set 1 | Vanimo\n",
      "Processing Record  551 of Set 1 | Kenai\n",
      "Processing Record  552 of Set 1 | Karratha\n",
      "Processing Record  553 of Set 1 | Juneau\n",
      "Processing Record  554 of Set 1 | Bella Vista\n",
      "Processing Record  555 of Set 1 | Caconda\n",
      "Processing Record  556 of Set 1 | Ketchikan\n",
      "Processing Record  557 of Set 1 | Hoi An\n",
      "Processing Record  558 of Set 1 | Karla\n"
     ]
    }
   ],
   "source": [
    "# Creating a for loop which will query the api and grab info for the set of lats/lngs from above.\n",
    "# Also for any lat/lng that it doesn't find a city, it will skip over those and go to the next.\n",
    "for city in cities:\n",
    "    query_url = f'{url}appid={weather_api_key}&units={units}&q={city}'\n",
    "    data = requests.get(query_url)\n",
    "    data2 = data.json()\n",
    "    if counter == 1:\n",
    "        print('Beginning Data Retrieval:\\n---------------------------')\n",
    "    try: \n",
    "        new_city.append(data2['name'])\n",
    "        lat.append(data2['coord']['lat'])\n",
    "        long.append(data2['coord']['lon'])\n",
    "        maxtemp.append(data2['main']['temp_max'])\n",
    "        humidity.append(data2['main']['humidity'])\n",
    "        clouds.append(data2['clouds']['all'])\n",
    "        wind_speed.append(data2['wind']['speed'])\n",
    "        country.append(data2['sys']['country'])\n",
    "        current_city = data2['name']\n",
    "        print(f'Processing Record  {counter} of Set 1 | {current_city}')\n",
    "        counter += 1\n",
    "    except:\n",
    "        pass\n",
    " "
   ]
  },
  {
   "cell_type": "code",
   "execution_count": 5,
   "metadata": {},
   "outputs": [],
   "source": [
    "# Creating the dataframe by putting it first into a dictionary, and then into the dataframe\n",
    "weather_dict = {\n",
    "    'City': new_city,\n",
    "    'Latitude': lat,\n",
    "    'Longitude': long,\n",
    "    'Max Temp': maxtemp,\n",
    "    'Humidity': humidity,\n",
    "    'Cloudiness': clouds,\n",
    "    'Wind Speed': wind_speed,\n",
    "    'Country': country\n",
    "}\n",
    "weather_data = pd.DataFrame(weather_dict)\n",
    "weather_data\n",
    "# Taking the dataframe and storing as a .csv file for use in Vacation.Py\n",
    "weather_data.to_csv(r'output.csv', index = False)"
   ]
  },
  {
   "cell_type": "markdown",
   "metadata": {},
   "source": [
    "### Convert Raw Data to DataFrame\n",
    "* Export the city data into a .csv.\n",
    "* Display the DataFrame"
   ]
  },
  {
   "cell_type": "code",
   "execution_count": 6,
   "metadata": {},
   "outputs": [
    {
     "data": {
      "text/html": [
       "<div>\n",
       "<style scoped>\n",
       "    .dataframe tbody tr th:only-of-type {\n",
       "        vertical-align: middle;\n",
       "    }\n",
       "\n",
       "    .dataframe tbody tr th {\n",
       "        vertical-align: top;\n",
       "    }\n",
       "\n",
       "    .dataframe thead th {\n",
       "        text-align: right;\n",
       "    }\n",
       "</style>\n",
       "<table border=\"1\" class=\"dataframe\">\n",
       "  <thead>\n",
       "    <tr style=\"text-align: right;\">\n",
       "      <th></th>\n",
       "      <th>City</th>\n",
       "      <th>Latitude</th>\n",
       "      <th>Longitude</th>\n",
       "      <th>Max Temp</th>\n",
       "      <th>Humidity</th>\n",
       "      <th>Cloudiness</th>\n",
       "      <th>Wind Speed</th>\n",
       "      <th>Country</th>\n",
       "    </tr>\n",
       "  </thead>\n",
       "  <tbody>\n",
       "    <tr>\n",
       "      <th>0</th>\n",
       "      <td>Arraial do Cabo</td>\n",
       "      <td>-22.9661</td>\n",
       "      <td>-42.0278</td>\n",
       "      <td>72.10</td>\n",
       "      <td>84</td>\n",
       "      <td>100</td>\n",
       "      <td>7.67</td>\n",
       "      <td>BR</td>\n",
       "    </tr>\n",
       "    <tr>\n",
       "      <th>1</th>\n",
       "      <td>Griffith</td>\n",
       "      <td>41.5284</td>\n",
       "      <td>-87.4237</td>\n",
       "      <td>10.40</td>\n",
       "      <td>79</td>\n",
       "      <td>90</td>\n",
       "      <td>8.05</td>\n",
       "      <td>US</td>\n",
       "    </tr>\n",
       "    <tr>\n",
       "      <th>2</th>\n",
       "      <td>Kumul</td>\n",
       "      <td>42.8000</td>\n",
       "      <td>93.4500</td>\n",
       "      <td>33.22</td>\n",
       "      <td>72</td>\n",
       "      <td>99</td>\n",
       "      <td>5.53</td>\n",
       "      <td>CN</td>\n",
       "    </tr>\n",
       "    <tr>\n",
       "      <th>3</th>\n",
       "      <td>Hobart</td>\n",
       "      <td>-42.8794</td>\n",
       "      <td>147.3294</td>\n",
       "      <td>66.00</td>\n",
       "      <td>63</td>\n",
       "      <td>75</td>\n",
       "      <td>17.27</td>\n",
       "      <td>AU</td>\n",
       "    </tr>\n",
       "    <tr>\n",
       "      <th>4</th>\n",
       "      <td>Lebu</td>\n",
       "      <td>-37.6167</td>\n",
       "      <td>-73.6500</td>\n",
       "      <td>57.81</td>\n",
       "      <td>93</td>\n",
       "      <td>24</td>\n",
       "      <td>1.86</td>\n",
       "      <td>CL</td>\n",
       "    </tr>\n",
       "    <tr>\n",
       "      <th>...</th>\n",
       "      <td>...</td>\n",
       "      <td>...</td>\n",
       "      <td>...</td>\n",
       "      <td>...</td>\n",
       "      <td>...</td>\n",
       "      <td>...</td>\n",
       "      <td>...</td>\n",
       "      <td>...</td>\n",
       "    </tr>\n",
       "    <tr>\n",
       "      <th>553</th>\n",
       "      <td>Bella Vista</td>\n",
       "      <td>36.4295</td>\n",
       "      <td>-94.2316</td>\n",
       "      <td>30.99</td>\n",
       "      <td>93</td>\n",
       "      <td>90</td>\n",
       "      <td>19.57</td>\n",
       "      <td>US</td>\n",
       "    </tr>\n",
       "    <tr>\n",
       "      <th>554</th>\n",
       "      <td>Caconda</td>\n",
       "      <td>-13.7333</td>\n",
       "      <td>15.0667</td>\n",
       "      <td>62.49</td>\n",
       "      <td>65</td>\n",
       "      <td>100</td>\n",
       "      <td>5.21</td>\n",
       "      <td>AO</td>\n",
       "    </tr>\n",
       "    <tr>\n",
       "      <th>555</th>\n",
       "      <td>Ketchikan</td>\n",
       "      <td>55.3422</td>\n",
       "      <td>-131.6461</td>\n",
       "      <td>37.40</td>\n",
       "      <td>86</td>\n",
       "      <td>90</td>\n",
       "      <td>9.22</td>\n",
       "      <td>US</td>\n",
       "    </tr>\n",
       "    <tr>\n",
       "      <th>556</th>\n",
       "      <td>Hoi An</td>\n",
       "      <td>15.8794</td>\n",
       "      <td>108.3350</td>\n",
       "      <td>71.60</td>\n",
       "      <td>94</td>\n",
       "      <td>75</td>\n",
       "      <td>3.44</td>\n",
       "      <td>VN</td>\n",
       "    </tr>\n",
       "    <tr>\n",
       "      <th>557</th>\n",
       "      <td>Karla</td>\n",
       "      <td>59.3723</td>\n",
       "      <td>24.9275</td>\n",
       "      <td>17.01</td>\n",
       "      <td>92</td>\n",
       "      <td>0</td>\n",
       "      <td>5.75</td>\n",
       "      <td>EE</td>\n",
       "    </tr>\n",
       "  </tbody>\n",
       "</table>\n",
       "<p>558 rows × 8 columns</p>\n",
       "</div>"
      ],
      "text/plain": [
       "                City  Latitude  Longitude  Max Temp  Humidity  Cloudiness  \\\n",
       "0    Arraial do Cabo  -22.9661   -42.0278     72.10        84         100   \n",
       "1           Griffith   41.5284   -87.4237     10.40        79          90   \n",
       "2              Kumul   42.8000    93.4500     33.22        72          99   \n",
       "3             Hobart  -42.8794   147.3294     66.00        63          75   \n",
       "4               Lebu  -37.6167   -73.6500     57.81        93          24   \n",
       "..               ...       ...        ...       ...       ...         ...   \n",
       "553      Bella Vista   36.4295   -94.2316     30.99        93          90   \n",
       "554          Caconda  -13.7333    15.0667     62.49        65         100   \n",
       "555        Ketchikan   55.3422  -131.6461     37.40        86          90   \n",
       "556           Hoi An   15.8794   108.3350     71.60        94          75   \n",
       "557            Karla   59.3723    24.9275     17.01        92           0   \n",
       "\n",
       "     Wind Speed Country  \n",
       "0          7.67      BR  \n",
       "1          8.05      US  \n",
       "2          5.53      CN  \n",
       "3         17.27      AU  \n",
       "4          1.86      CL  \n",
       "..          ...     ...  \n",
       "553       19.57      US  \n",
       "554        5.21      AO  \n",
       "555        9.22      US  \n",
       "556        3.44      VN  \n",
       "557        5.75      EE  \n",
       "\n",
       "[558 rows x 8 columns]"
      ]
     },
     "execution_count": 6,
     "metadata": {},
     "output_type": "execute_result"
    }
   ],
   "source": [
    "# Displaying the new dataframe!\n",
    "weather_data\n",
    "# **** Note: I took the **Max Temp** specifically because that is what was displayed in the starter code walkthrough!"
   ]
  },
  {
   "cell_type": "markdown",
   "metadata": {},
   "source": [
    "## Inspect the data and remove the cities where the humidity > 100%.\n",
    "----\n",
    "Skip this step if there are no cities that have humidity > 100%. "
   ]
  },
  {
   "cell_type": "code",
   "execution_count": 7,
   "metadata": {},
   "outputs": [
    {
     "data": {
      "text/html": [
       "<div>\n",
       "<style scoped>\n",
       "    .dataframe tbody tr th:only-of-type {\n",
       "        vertical-align: middle;\n",
       "    }\n",
       "\n",
       "    .dataframe tbody tr th {\n",
       "        vertical-align: top;\n",
       "    }\n",
       "\n",
       "    .dataframe thead th {\n",
       "        text-align: right;\n",
       "    }\n",
       "</style>\n",
       "<table border=\"1\" class=\"dataframe\">\n",
       "  <thead>\n",
       "    <tr style=\"text-align: right;\">\n",
       "      <th></th>\n",
       "      <th>City</th>\n",
       "      <th>Latitude</th>\n",
       "      <th>Longitude</th>\n",
       "      <th>Max Temp</th>\n",
       "      <th>Humidity</th>\n",
       "      <th>Cloudiness</th>\n",
       "      <th>Wind Speed</th>\n",
       "      <th>Country</th>\n",
       "    </tr>\n",
       "  </thead>\n",
       "  <tbody>\n",
       "  </tbody>\n",
       "</table>\n",
       "</div>"
      ],
      "text/plain": [
       "Empty DataFrame\n",
       "Columns: [City, Latitude, Longitude, Max Temp, Humidity, Cloudiness, Wind Speed, Country]\n",
       "Index: []"
      ]
     },
     "execution_count": 7,
     "metadata": {},
     "output_type": "execute_result"
    }
   ],
   "source": [
    "#Finding out if there are any values in the column \"Humidity\" that are over 100%\n",
    "new = weather_data.loc[weather_data['Humidity'] > 100]\n",
    "new"
   ]
  },
  {
   "cell_type": "code",
   "execution_count": 8,
   "metadata": {},
   "outputs": [
    {
     "data": {
      "text/html": [
       "<div>\n",
       "<style scoped>\n",
       "    .dataframe tbody tr th:only-of-type {\n",
       "        vertical-align: middle;\n",
       "    }\n",
       "\n",
       "    .dataframe tbody tr th {\n",
       "        vertical-align: top;\n",
       "    }\n",
       "\n",
       "    .dataframe thead th {\n",
       "        text-align: right;\n",
       "    }\n",
       "</style>\n",
       "<table border=\"1\" class=\"dataframe\">\n",
       "  <thead>\n",
       "    <tr style=\"text-align: right;\">\n",
       "      <th></th>\n",
       "      <th>City</th>\n",
       "      <th>Latitude</th>\n",
       "      <th>Longitude</th>\n",
       "      <th>Max Temp</th>\n",
       "      <th>Humidity</th>\n",
       "      <th>Cloudiness</th>\n",
       "      <th>Wind Speed</th>\n",
       "      <th>Country</th>\n",
       "    </tr>\n",
       "  </thead>\n",
       "  <tbody>\n",
       "    <tr>\n",
       "      <th>1</th>\n",
       "      <td>Griffith</td>\n",
       "      <td>41.5284</td>\n",
       "      <td>-87.4237</td>\n",
       "      <td>10.40</td>\n",
       "      <td>79</td>\n",
       "      <td>90</td>\n",
       "      <td>8.05</td>\n",
       "      <td>US</td>\n",
       "    </tr>\n",
       "    <tr>\n",
       "      <th>2</th>\n",
       "      <td>Kumul</td>\n",
       "      <td>42.8000</td>\n",
       "      <td>93.4500</td>\n",
       "      <td>33.22</td>\n",
       "      <td>72</td>\n",
       "      <td>99</td>\n",
       "      <td>5.53</td>\n",
       "      <td>CN</td>\n",
       "    </tr>\n",
       "    <tr>\n",
       "      <th>5</th>\n",
       "      <td>Tuktoyaktuk</td>\n",
       "      <td>69.4541</td>\n",
       "      <td>-133.0374</td>\n",
       "      <td>-16.60</td>\n",
       "      <td>76</td>\n",
       "      <td>90</td>\n",
       "      <td>19.57</td>\n",
       "      <td>CA</td>\n",
       "    </tr>\n",
       "    <tr>\n",
       "      <th>6</th>\n",
       "      <td>Rāvar</td>\n",
       "      <td>31.2656</td>\n",
       "      <td>56.8055</td>\n",
       "      <td>49.60</td>\n",
       "      <td>40</td>\n",
       "      <td>0</td>\n",
       "      <td>2.59</td>\n",
       "      <td>IR</td>\n",
       "    </tr>\n",
       "    <tr>\n",
       "      <th>8</th>\n",
       "      <td>Kapaa</td>\n",
       "      <td>22.0752</td>\n",
       "      <td>-159.3190</td>\n",
       "      <td>73.40</td>\n",
       "      <td>53</td>\n",
       "      <td>75</td>\n",
       "      <td>6.91</td>\n",
       "      <td>US</td>\n",
       "    </tr>\n",
       "    <tr>\n",
       "      <th>...</th>\n",
       "      <td>...</td>\n",
       "      <td>...</td>\n",
       "      <td>...</td>\n",
       "      <td>...</td>\n",
       "      <td>...</td>\n",
       "      <td>...</td>\n",
       "      <td>...</td>\n",
       "      <td>...</td>\n",
       "    </tr>\n",
       "    <tr>\n",
       "      <th>552</th>\n",
       "      <td>Juneau</td>\n",
       "      <td>58.3019</td>\n",
       "      <td>-134.4197</td>\n",
       "      <td>19.40</td>\n",
       "      <td>53</td>\n",
       "      <td>40</td>\n",
       "      <td>9.22</td>\n",
       "      <td>US</td>\n",
       "    </tr>\n",
       "    <tr>\n",
       "      <th>553</th>\n",
       "      <td>Bella Vista</td>\n",
       "      <td>36.4295</td>\n",
       "      <td>-94.2316</td>\n",
       "      <td>30.99</td>\n",
       "      <td>93</td>\n",
       "      <td>90</td>\n",
       "      <td>19.57</td>\n",
       "      <td>US</td>\n",
       "    </tr>\n",
       "    <tr>\n",
       "      <th>555</th>\n",
       "      <td>Ketchikan</td>\n",
       "      <td>55.3422</td>\n",
       "      <td>-131.6461</td>\n",
       "      <td>37.40</td>\n",
       "      <td>86</td>\n",
       "      <td>90</td>\n",
       "      <td>9.22</td>\n",
       "      <td>US</td>\n",
       "    </tr>\n",
       "    <tr>\n",
       "      <th>556</th>\n",
       "      <td>Hoi An</td>\n",
       "      <td>15.8794</td>\n",
       "      <td>108.3350</td>\n",
       "      <td>71.60</td>\n",
       "      <td>94</td>\n",
       "      <td>75</td>\n",
       "      <td>3.44</td>\n",
       "      <td>VN</td>\n",
       "    </tr>\n",
       "    <tr>\n",
       "      <th>557</th>\n",
       "      <td>Karla</td>\n",
       "      <td>59.3723</td>\n",
       "      <td>24.9275</td>\n",
       "      <td>17.01</td>\n",
       "      <td>92</td>\n",
       "      <td>0</td>\n",
       "      <td>5.75</td>\n",
       "      <td>EE</td>\n",
       "    </tr>\n",
       "  </tbody>\n",
       "</table>\n",
       "<p>367 rows × 8 columns</p>\n",
       "</div>"
      ],
      "text/plain": [
       "            City  Latitude  Longitude  Max Temp  Humidity  Cloudiness  \\\n",
       "1       Griffith   41.5284   -87.4237     10.40        79          90   \n",
       "2          Kumul   42.8000    93.4500     33.22        72          99   \n",
       "5    Tuktoyaktuk   69.4541  -133.0374    -16.60        76          90   \n",
       "6          Rāvar   31.2656    56.8055     49.60        40           0   \n",
       "8          Kapaa   22.0752  -159.3190     73.40        53          75   \n",
       "..           ...       ...        ...       ...       ...         ...   \n",
       "552       Juneau   58.3019  -134.4197     19.40        53          40   \n",
       "553  Bella Vista   36.4295   -94.2316     30.99        93          90   \n",
       "555    Ketchikan   55.3422  -131.6461     37.40        86          90   \n",
       "556       Hoi An   15.8794   108.3350     71.60        94          75   \n",
       "557        Karla   59.3723    24.9275     17.01        92           0   \n",
       "\n",
       "     Wind Speed Country  \n",
       "1          8.05      US  \n",
       "2          5.53      CN  \n",
       "5         19.57      CA  \n",
       "6          2.59      IR  \n",
       "8          6.91      US  \n",
       "..          ...     ...  \n",
       "552        9.22      US  \n",
       "553       19.57      US  \n",
       "555        9.22      US  \n",
       "556        3.44      VN  \n",
       "557        5.75      EE  \n",
       "\n",
       "[367 rows x 8 columns]"
      ]
     },
     "execution_count": 8,
     "metadata": {},
     "output_type": "execute_result"
    }
   ],
   "source": [
    "# Splitting into Northern Hemisphere...\n",
    "\n",
    "northern_hemi = weather_data.loc[weather_data['Latitude'] >= 0]\n",
    "northern_hemi"
   ]
  },
  {
   "cell_type": "code",
   "execution_count": 9,
   "metadata": {},
   "outputs": [
    {
     "data": {
      "text/html": [
       "<div>\n",
       "<style scoped>\n",
       "    .dataframe tbody tr th:only-of-type {\n",
       "        vertical-align: middle;\n",
       "    }\n",
       "\n",
       "    .dataframe tbody tr th {\n",
       "        vertical-align: top;\n",
       "    }\n",
       "\n",
       "    .dataframe thead th {\n",
       "        text-align: right;\n",
       "    }\n",
       "</style>\n",
       "<table border=\"1\" class=\"dataframe\">\n",
       "  <thead>\n",
       "    <tr style=\"text-align: right;\">\n",
       "      <th></th>\n",
       "      <th>City</th>\n",
       "      <th>Latitude</th>\n",
       "      <th>Longitude</th>\n",
       "      <th>Max Temp</th>\n",
       "      <th>Humidity</th>\n",
       "      <th>Cloudiness</th>\n",
       "      <th>Wind Speed</th>\n",
       "      <th>Country</th>\n",
       "    </tr>\n",
       "  </thead>\n",
       "  <tbody>\n",
       "    <tr>\n",
       "      <th>0</th>\n",
       "      <td>Arraial do Cabo</td>\n",
       "      <td>-22.9661</td>\n",
       "      <td>-42.0278</td>\n",
       "      <td>72.10</td>\n",
       "      <td>84</td>\n",
       "      <td>100</td>\n",
       "      <td>7.67</td>\n",
       "      <td>BR</td>\n",
       "    </tr>\n",
       "    <tr>\n",
       "      <th>3</th>\n",
       "      <td>Hobart</td>\n",
       "      <td>-42.8794</td>\n",
       "      <td>147.3294</td>\n",
       "      <td>66.00</td>\n",
       "      <td>63</td>\n",
       "      <td>75</td>\n",
       "      <td>17.27</td>\n",
       "      <td>AU</td>\n",
       "    </tr>\n",
       "    <tr>\n",
       "      <th>4</th>\n",
       "      <td>Lebu</td>\n",
       "      <td>-37.6167</td>\n",
       "      <td>-73.6500</td>\n",
       "      <td>57.81</td>\n",
       "      <td>93</td>\n",
       "      <td>24</td>\n",
       "      <td>1.86</td>\n",
       "      <td>CL</td>\n",
       "    </tr>\n",
       "    <tr>\n",
       "      <th>7</th>\n",
       "      <td>Rikitea</td>\n",
       "      <td>-23.1203</td>\n",
       "      <td>-134.9692</td>\n",
       "      <td>78.78</td>\n",
       "      <td>69</td>\n",
       "      <td>73</td>\n",
       "      <td>10.56</td>\n",
       "      <td>PF</td>\n",
       "    </tr>\n",
       "    <tr>\n",
       "      <th>10</th>\n",
       "      <td>Punta Arenas</td>\n",
       "      <td>-53.1500</td>\n",
       "      <td>-70.9167</td>\n",
       "      <td>51.80</td>\n",
       "      <td>66</td>\n",
       "      <td>0</td>\n",
       "      <td>17.27</td>\n",
       "      <td>CL</td>\n",
       "    </tr>\n",
       "    <tr>\n",
       "      <th>...</th>\n",
       "      <td>...</td>\n",
       "      <td>...</td>\n",
       "      <td>...</td>\n",
       "      <td>...</td>\n",
       "      <td>...</td>\n",
       "      <td>...</td>\n",
       "      <td>...</td>\n",
       "      <td>...</td>\n",
       "    </tr>\n",
       "    <tr>\n",
       "      <th>544</th>\n",
       "      <td>Kasempa</td>\n",
       "      <td>-13.4584</td>\n",
       "      <td>25.8338</td>\n",
       "      <td>64.53</td>\n",
       "      <td>97</td>\n",
       "      <td>100</td>\n",
       "      <td>4.47</td>\n",
       "      <td>ZM</td>\n",
       "    </tr>\n",
       "    <tr>\n",
       "      <th>545</th>\n",
       "      <td>Palu</td>\n",
       "      <td>-0.8917</td>\n",
       "      <td>119.8707</td>\n",
       "      <td>89.11</td>\n",
       "      <td>50</td>\n",
       "      <td>100</td>\n",
       "      <td>1.52</td>\n",
       "      <td>ID</td>\n",
       "    </tr>\n",
       "    <tr>\n",
       "      <th>549</th>\n",
       "      <td>Vanimo</td>\n",
       "      <td>-2.6741</td>\n",
       "      <td>141.3028</td>\n",
       "      <td>80.37</td>\n",
       "      <td>83</td>\n",
       "      <td>100</td>\n",
       "      <td>3.65</td>\n",
       "      <td>PG</td>\n",
       "    </tr>\n",
       "    <tr>\n",
       "      <th>551</th>\n",
       "      <td>Karratha</td>\n",
       "      <td>-20.7377</td>\n",
       "      <td>116.8463</td>\n",
       "      <td>82.89</td>\n",
       "      <td>56</td>\n",
       "      <td>7</td>\n",
       "      <td>11.07</td>\n",
       "      <td>AU</td>\n",
       "    </tr>\n",
       "    <tr>\n",
       "      <th>554</th>\n",
       "      <td>Caconda</td>\n",
       "      <td>-13.7333</td>\n",
       "      <td>15.0667</td>\n",
       "      <td>62.49</td>\n",
       "      <td>65</td>\n",
       "      <td>100</td>\n",
       "      <td>5.21</td>\n",
       "      <td>AO</td>\n",
       "    </tr>\n",
       "  </tbody>\n",
       "</table>\n",
       "<p>191 rows × 8 columns</p>\n",
       "</div>"
      ],
      "text/plain": [
       "                City  Latitude  Longitude  Max Temp  Humidity  Cloudiness  \\\n",
       "0    Arraial do Cabo  -22.9661   -42.0278     72.10        84         100   \n",
       "3             Hobart  -42.8794   147.3294     66.00        63          75   \n",
       "4               Lebu  -37.6167   -73.6500     57.81        93          24   \n",
       "7            Rikitea  -23.1203  -134.9692     78.78        69          73   \n",
       "10      Punta Arenas  -53.1500   -70.9167     51.80        66           0   \n",
       "..               ...       ...        ...       ...       ...         ...   \n",
       "544          Kasempa  -13.4584    25.8338     64.53        97         100   \n",
       "545             Palu   -0.8917   119.8707     89.11        50         100   \n",
       "549           Vanimo   -2.6741   141.3028     80.37        83         100   \n",
       "551         Karratha  -20.7377   116.8463     82.89        56           7   \n",
       "554          Caconda  -13.7333    15.0667     62.49        65         100   \n",
       "\n",
       "     Wind Speed Country  \n",
       "0          7.67      BR  \n",
       "3         17.27      AU  \n",
       "4          1.86      CL  \n",
       "7         10.56      PF  \n",
       "10        17.27      CL  \n",
       "..          ...     ...  \n",
       "544        4.47      ZM  \n",
       "545        1.52      ID  \n",
       "549        3.65      PG  \n",
       "551       11.07      AU  \n",
       "554        5.21      AO  \n",
       "\n",
       "[191 rows x 8 columns]"
      ]
     },
     "execution_count": 9,
     "metadata": {},
     "output_type": "execute_result"
    }
   ],
   "source": [
    "#And southern hemisphere here ->\n",
    "southern_hemi = weather_data.loc[weather_data['Latitude'] < 0]\n",
    "southern_hemi"
   ]
  },
  {
   "cell_type": "markdown",
   "metadata": {},
   "source": [
    "## Plotting the Data\n",
    "* Use proper labeling of the plots using plot titles (including date of analysis) and axes labels.\n",
    "* Save the plotted figures as .pngs."
   ]
  },
  {
   "cell_type": "markdown",
   "metadata": {},
   "source": [
    "## Latitude vs. Temperature Plot"
   ]
  },
  {
   "cell_type": "code",
   "execution_count": 49,
   "metadata": {
    "scrolled": true
   },
   "outputs": [
    {
     "data": {
      "image/png": "[encoded data removed]",
      "text/plain": [
       "<Figure size 432x288 with 1 Axes>"
      ]
     },
     "metadata": {
      "needs_background": "light"
     },
     "output_type": "display_data"
    }
   ],
   "source": [
    "plt.scatter(weather_data['Latitude'], weather_data['Max Temp'], marker=\"o\", facecolors=\"red\", edgecolors=\"black\")\n",
    "plt.title('Latitude vs Temperature Plot')\n",
    "plt.xlabel('Latitude')\n",
    "plt.ylabel('Temperature')\n",
    "plt.savefig('latitude_vs_temp')"
   ]
  },
  {
   "cell_type": "code",
   "execution_count": null,
   "metadata": {},
   "outputs": [],
   "source": [
    "# With this temperature plot, it looks as though as the latitude increases, the temperature drops off."
   ]
  },
  {
   "cell_type": "markdown",
   "metadata": {},
   "source": [
    "## Latitude vs. Humidity Plot"
   ]
  },
  {
   "cell_type": "code",
   "execution_count": 51,
   "metadata": {},
   "outputs": [
    {
     "data": {
      "image/png": "[encoded data removed]",
      "text/plain": [
       "<Figure size 432x288 with 1 Axes>"
      ]
     },
     "metadata": {
      "needs_background": "light"
     },
     "output_type": "display_data"
    }
   ],
   "source": [
    "plt.scatter(weather_data['Latitude'], weather_data['Humidity'], marker=\"o\", facecolors=\"red\", edgecolors=\"black\")\n",
    "plt.title('Latitude vs Humidity Plot')\n",
    "plt.xlabel('Latitude')\n",
    "plt.ylabel('Humidity %')\n",
    "plt.savefig('latitude_vs_humidity')"
   ]
  },
  {
   "cell_type": "code",
   "execution_count": null,
   "metadata": {},
   "outputs": [],
   "source": [
    "# There isn't much to tell from this data other then there seem to be some clustering in the top left and top right,\n",
    "# that may indicate there tends to be more humidty the more north and south you go."
   ]
  },
  {
   "cell_type": "markdown",
   "metadata": {},
   "source": [
    "## Latitude vs. Cloudiness Plot"
   ]
  },
  {
   "cell_type": "code",
   "execution_count": 52,
   "metadata": {},
   "outputs": [
    {
     "data": {
      "image/png": "[encoded data removed]",
      "text/plain": [
       "<Figure size 432x288 with 1 Axes>"
      ]
     },
     "metadata": {
      "needs_background": "light"
     },
     "output_type": "display_data"
    }
   ],
   "source": [
    "plt.scatter(weather_data['Latitude'], weather_data['Cloudiness'], marker=\"o\", facecolors=\"red\", edgecolors=\"black\")\n",
    "plt.title('Latitude vs Cloudiness Plot')\n",
    "plt.xlabel('Latitude')\n",
    "plt.ylabel('Cloudiness')\n",
    "plt.savefig('latitude_vs_cloudiness')"
   ]
  },
  {
   "cell_type": "code",
   "execution_count": null,
   "metadata": {},
   "outputs": [],
   "source": [
    "# Again, this one is a bit harder to form conclusions about ,but it looks as though\n",
    "# a good amount of either full cloudiness or none at all occur at all points along the latitude axis"
   ]
  },
  {
   "cell_type": "markdown",
   "metadata": {},
   "source": [
    "## Latitude vs. Wind Speed Plot"
   ]
  },
  {
   "cell_type": "code",
   "execution_count": 62,
   "metadata": {},
   "outputs": [
    {
     "data": {
      "image/png": "[encoded data removed]",
      "text/plain": [
       "<Figure size 432x288 with 1 Axes>"
      ]
     },
     "metadata": {
      "needs_background": "light"
     },
     "output_type": "display_data"
    }
   ],
   "source": [
    "plt.scatter(weather_data['Latitude'], weather_data['Wind Speed'], marker=\"o\", facecolors=\"red\", edgecolors=\"black\")\n",
    "plt.title('Latitude vs Wind Speed Plot')\n",
    "plt.xlabel('Latitude')\n",
    "plt.ylabel('Wind Speed (mph)')\n",
    "plt.savefig('latitude_vs_windspeed')"
   ]
  },
  {
   "cell_type": "code",
   "execution_count": null,
   "metadata": {},
   "outputs": [],
   "source": [
    "# With this particular plot, most of the data lies below the 15 mph mark for all the latitudes observed."
   ]
  },
  {
   "cell_type": "markdown",
   "metadata": {},
   "source": [
    "## Linear Regression"
   ]
  },
  {
   "cell_type": "markdown",
   "metadata": {},
   "source": [
    "####  Northern Hemisphere - Max Temp vs. Latitude Linear Regression"
   ]
  },
  {
   "cell_type": "code",
   "execution_count": 54,
   "metadata": {},
   "outputs": [
    {
     "name": "stdout",
     "output_type": "stream",
     "text": [
      "R squared: 0.7252773021619201\n"
     ]
    },
    {
     "data": {
      "image/png": "[encoded data removed]",
      "text/plain": [
       "<Figure size 432x288 with 1 Axes>"
      ]
     },
     "metadata": {
      "needs_background": "light"
     },
     "output_type": "display_data"
    }
   ],
   "source": [
    "x_values = northern_hemi['Max Temp'].astype('float')\n",
    "y_values = northern_hemi['Latitude'].astype('float')\n",
    "\n",
    "# Run linear regression\n",
    "(slope, intercept, rvalue, pvalue, stderr) = linregress(x_values, y_values)\n",
    "regress_values = x_values * slope + intercept\n",
    "line_eq = \"y = \" + str(round(slope,2)) + \"x + \" + str(round(intercept,2))\n",
    "\n",
    "# Plot scatter plot\n",
    "plt.scatter(x_values,y_values)\n",
    "\n",
    "# Plot regression line\n",
    "plt.plot(x_values,regress_values,\"r-\")\n",
    "plt.annotate(line_eq,(6,10),fontsize=15,color=\"red\")\n",
    "\n",
    "# Label plot\n",
    "plt.xlabel('Max Temp')\n",
    "plt.ylabel('Latitude')\n",
    "plt.title('Max Temp vs Latitude Linear Regression (Northern)')\n",
    "# Print r square value\n",
    "print(f\"R squared: {rvalue**2}\")\n",
    "plt.savefig('northern_temp_latitude')\n",
    "# Show plot\n",
    "plt.show()\n"
   ]
  },
  {
   "cell_type": "code",
   "execution_count": null,
   "metadata": {},
   "outputs": [],
   "source": [
    "# It looks as though there is a clear trend downward for latitude downward as the max temp increases."
   ]
  },
  {
   "cell_type": "markdown",
   "metadata": {},
   "source": [
    "####  Southern Hemisphere - Max Temp vs. Latitude Linear Regression"
   ]
  },
  {
   "cell_type": "code",
   "execution_count": 55,
   "metadata": {},
   "outputs": [
    {
     "name": "stdout",
     "output_type": "stream",
     "text": [
      "R squared: 0.21196008366293212\n"
     ]
    },
    {
     "data": {
      "image/png": "[encoded data removed]",
      "text/plain": [
       "<Figure size 432x288 with 1 Axes>"
      ]
     },
     "metadata": {
      "needs_background": "light"
     },
     "output_type": "display_data"
    }
   ],
   "source": [
    "x_values = southern_hemi['Max Temp'].astype('float')\n",
    "y_values = southern_hemi['Latitude'].astype('float')\n",
    "\n",
    "# Run linear regression\n",
    "(slope, intercept, rvalue, pvalue, stderr) = linregress(x_values, y_values)\n",
    "regress_values = x_values * slope + intercept\n",
    "line_eq = \"y = \" + str(round(slope,2)) + \"x + \" + str(round(intercept,2))\n",
    "\n",
    "# Plot scatter plot\n",
    "plt.scatter(x_values,y_values)\n",
    "\n",
    "# Plot regression line\n",
    "plt.plot(x_values,regress_values,\"r-\")\n",
    "plt.annotate(line_eq,(6,10),fontsize=15,color=\"red\")\n",
    "\n",
    "# Label plot\n",
    "plt.xlabel('Max Temp')\n",
    "plt.ylabel('Latitude')\n",
    "plt.title('Max Temp vs Latitude Linear Regression (Southern)')\n",
    "# Print r square value\n",
    "print(f\"R squared: {rvalue**2}\")\n",
    "plt.savefig('southern_temp_latitude')\n",
    "# Show plot\n",
    "plt.show()\n"
   ]
  },
  {
   "cell_type": "code",
   "execution_count": null,
   "metadata": {},
   "outputs": [],
   "source": [
    "# Though not as concise a scatter plot as the last one, it looks as though there is a trend upward for latitude downward as the max temp increases."
   ]
  },
  {
   "cell_type": "markdown",
   "metadata": {},
   "source": [
    "####  Northern Hemisphere - Humidity (%) vs. Latitude Linear Regression"
   ]
  },
  {
   "cell_type": "code",
   "execution_count": 56,
   "metadata": {},
   "outputs": [
    {
     "name": "stdout",
     "output_type": "stream",
     "text": [
      "R squared: 0.08476810826864346\n"
     ]
    },
    {
     "data": {
      "image/png": "[encoded data removed]",
      "text/plain": [
       "<Figure size 432x288 with 1 Axes>"
      ]
     },
     "metadata": {
      "needs_background": "light"
     },
     "output_type": "display_data"
    }
   ],
   "source": [
    "x_values = northern_hemi['Humidity'].astype('float')\n",
    "y_values = northern_hemi['Latitude'].astype('float')\n",
    "\n",
    "# Run linear regression\n",
    "(slope, intercept, rvalue, pvalue, stderr) = linregress(x_values, y_values)\n",
    "regress_values = x_values * slope + intercept\n",
    "line_eq = \"y = \" + str(round(slope,2)) + \"x + \" + str(round(intercept,2))\n",
    "\n",
    "# Plot scatter plot\n",
    "plt.scatter(x_values,y_values)\n",
    "\n",
    "# Plot regression line\n",
    "plt.plot(x_values,regress_values,\"r-\")\n",
    "plt.annotate(line_eq,(6,10),fontsize=15,color=\"red\")\n",
    "\n",
    "# Label plot\n",
    "plt.xlabel('Humidity %')\n",
    "plt.ylabel('Latitude')\n",
    "plt.title('Humidity vs Latitude Linear Regression (Northern)')\n",
    "# Print r square value\n",
    "print(f\"R squared: {rvalue**2}\")\n",
    "plt.savefig('northern_humidity_latitude')\n",
    "# Show plot\n",
    "plt.show()\n"
   ]
  },
  {
   "cell_type": "code",
   "execution_count": null,
   "metadata": {},
   "outputs": [],
   "source": [
    "# There appears to be a slight increase in humidity as the latitudes increase"
   ]
  },
  {
   "cell_type": "markdown",
   "metadata": {},
   "source": [
    "####  Southern Hemisphere - Humidity (%) vs. Latitude Linear Regression"
   ]
  },
  {
   "cell_type": "code",
   "execution_count": 57,
   "metadata": {},
   "outputs": [
    {
     "name": "stdout",
     "output_type": "stream",
     "text": [
      "R squared: 0.09047082070778076\n"
     ]
    },
    {
     "data": {
      "image/png": "[encoded data removed]",
      "text/plain": [
       "<Figure size 432x288 with 1 Axes>"
      ]
     },
     "metadata": {
      "needs_background": "light"
     },
     "output_type": "display_data"
    }
   ],
   "source": [
    "x_values = southern_hemi['Humidity'].astype('float')\n",
    "y_values = southern_hemi['Latitude'].astype('float')\n",
    "\n",
    "# Run linear regression\n",
    "(slope, intercept, rvalue, pvalue, stderr) = linregress(x_values, y_values)\n",
    "regress_values = x_values * slope + intercept\n",
    "line_eq = \"y = \" + str(round(slope,2)) + \"x + \" + str(round(intercept,2))\n",
    "\n",
    "# Plot scatter plot\n",
    "plt.scatter(x_values,y_values)\n",
    "\n",
    "# Plot regression line\n",
    "plt.plot(x_values,regress_values,\"r-\")\n",
    "plt.annotate(line_eq,(6,10),fontsize=15,color=\"red\")\n",
    "\n",
    "# Label plot\n",
    "plt.xlabel('Humidity %')\n",
    "plt.ylabel('Latitude')\n",
    "plt.title('Humidity vs Latitude Linear Regression (Southern)')\n",
    "# Print r square value\n",
    "print(f\"R squared: {rvalue**2}\")\n",
    "plt.savefig('southern_humidity_latitude')\n",
    "# Show plot\n",
    "plt.show()\n"
   ]
  },
  {
   "cell_type": "code",
   "execution_count": null,
   "metadata": {},
   "outputs": [],
   "source": [
    "# Inversely, it looks as though as the latitudes decrease, the humidity increases"
   ]
  },
  {
   "cell_type": "markdown",
   "metadata": {},
   "source": [
    "####  Northern Hemisphere - Cloudiness (%) vs. Latitude Linear Regression"
   ]
  },
  {
   "cell_type": "code",
   "execution_count": 58,
   "metadata": {},
   "outputs": [
    {
     "name": "stdout",
     "output_type": "stream",
     "text": [
      "R squared: 0.04405195893161123\n"
     ]
    },
    {
     "data": {
      "image/png": "[encoded data removed]",
      "text/plain": [
       "<Figure size 432x288 with 1 Axes>"
      ]
     },
     "metadata": {
      "needs_background": "light"
     },
     "output_type": "display_data"
    }
   ],
   "source": [
    "x_values = northern_hemi['Cloudiness'].astype('float')\n",
    "y_values = northern_hemi['Latitude'].astype('float')\n",
    "\n",
    "# Run linear regression\n",
    "(slope, intercept, rvalue, pvalue, stderr) = linregress(x_values, y_values)\n",
    "regress_values = x_values * slope + intercept\n",
    "line_eq = \"y = \" + str(round(slope,2)) + \"x + \" + str(round(intercept,2))\n",
    "\n",
    "# Plot scatter plot\n",
    "plt.scatter(x_values,y_values)\n",
    "\n",
    "# Plot regression line\n",
    "plt.plot(x_values,regress_values,\"r-\")\n",
    "plt.annotate(line_eq,(6,10),fontsize=15,color=\"red\")\n",
    "\n",
    "# Label plot\n",
    "plt.xlabel('Cloudiness %')\n",
    "plt.ylabel('Latitude')\n",
    "plt.title('Cloudiness vs Latitude Linear Regression (Northern)')\n",
    "# Print r square value\n",
    "print(f\"R squared: {rvalue**2}\")\n",
    "plt.savefig('northern_cloudiness_latitude')\n",
    "# Show plot\n",
    "plt.show()\n"
   ]
  },
  {
   "cell_type": "code",
   "execution_count": null,
   "metadata": {},
   "outputs": [],
   "source": [
    "# These next two plots are a bit harder to truly come to a conclusion. It looks as though most of the data\n",
    "# is clustered on either end of the cloudiness scale (close to 0 and around 100), as shown by the previous\n",
    "# scatter plot shown above (Latitude vs Cloudiness)"
   ]
  },
  {
   "cell_type": "markdown",
   "metadata": {},
   "source": [
    "####  Southern Hemisphere - Cloudiness (%) vs. Latitude Linear Regression"
   ]
  },
  {
   "cell_type": "code",
   "execution_count": 59,
   "metadata": {},
   "outputs": [
    {
     "name": "stdout",
     "output_type": "stream",
     "text": [
      "R squared: 0.1477015108486361\n"
     ]
    },
    {
     "data": {
      "image/png": "[encoded data removed]",
      "text/plain": [
       "<Figure size 432x288 with 1 Axes>"
      ]
     },
     "metadata": {
      "needs_background": "light"
     },
     "output_type": "display_data"
    }
   ],
   "source": [
    "x_values = southern_hemi['Cloudiness'].astype('float')\n",
    "y_values = southern_hemi['Latitude'].astype('float')\n",
    "\n",
    "# Run linear regression\n",
    "(slope, intercept, rvalue, pvalue, stderr) = linregress(x_values, y_values)\n",
    "regress_values = x_values * slope + intercept\n",
    "line_eq = \"y = \" + str(round(slope,2)) + \"x + \" + str(round(intercept,2))\n",
    "\n",
    "# Plot scatter plot\n",
    "plt.scatter(x_values,y_values)\n",
    "\n",
    "# Plot regression line\n",
    "plt.plot(x_values,regress_values,\"r-\")\n",
    "plt.annotate(line_eq,(6,10),fontsize=15,color=\"red\")\n",
    "\n",
    "# Label plot\n",
    "plt.xlabel('Cloudiness %')\n",
    "plt.ylabel('Latitude')\n",
    "plt.title('Cloudiness vs Latitude Linear Regression (Southern)')\n",
    "# Print r square value\n",
    "print(f\"R squared: {rvalue**2}\")\n",
    "plt.savefig('southern_humidity_latitude')\n",
    "# Show plot\n",
    "plt.show()\n"
   ]
  },
  {
   "cell_type": "code",
   "execution_count": null,
   "metadata": {},
   "outputs": [],
   "source": [
    "# The same thing, but a bit less so, as there aren't as many data points, but it also looks as though\n",
    "# most of the data points are on either end of the cloudiness range"
   ]
  },
  {
   "cell_type": "markdown",
   "metadata": {},
   "source": [
    "####  Northern Hemisphere - Wind Speed (mph) vs. Latitude Linear Regression"
   ]
  },
  {
   "cell_type": "code",
   "execution_count": 60,
   "metadata": {},
   "outputs": [
    {
     "name": "stdout",
     "output_type": "stream",
     "text": [
      "R squared: 0.06677938113122112\n"
     ]
    },
    {
     "data": {
      "image/png": "[encoded data removed]",
      "text/plain": [
       "<Figure size 432x288 with 1 Axes>"
      ]
     },
     "metadata": {
      "needs_background": "light"
     },
     "output_type": "display_data"
    }
   ],
   "source": [
    "x_values = northern_hemi['Wind Speed'].astype('float')\n",
    "y_values = northern_hemi['Latitude'].astype('float')\n",
    "\n",
    "# Run linear regression\n",
    "(slope, intercept, rvalue, pvalue, stderr) = linregress(x_values, y_values)\n",
    "regress_values = x_values * slope + intercept\n",
    "line_eq = \"y = \" + str(round(slope,2)) + \"x + \" + str(round(intercept,2))\n",
    "\n",
    "# Plot scatter plot\n",
    "plt.scatter(x_values,y_values)\n",
    "\n",
    "# Plot regression line\n",
    "plt.plot(x_values,regress_values,\"r-\")\n",
    "plt.annotate(line_eq,(6,10),fontsize=15,color=\"red\")\n",
    "\n",
    "# Label plot\n",
    "plt.xlabel('Wind Speed (mph)')\n",
    "plt.ylabel('Latitude')\n",
    "plt.title('Wind Speed vs Latitude Linear Regression (Northern)')\n",
    "# Print r square value\n",
    "print(f\"R squared: {rvalue**2}\")\n",
    "plt.savefig('northern_windspeed_latitude')\n",
    "# Show plot\n",
    "plt.show()\n"
   ]
  },
  {
   "cell_type": "code",
   "execution_count": null,
   "metadata": {},
   "outputs": [],
   "source": [
    "# It appears as though most of the data points lie around where the wind speed is < 15 or so. Thus, latitude\n",
    "# isn't as much a factor here as it is with other plots"
   ]
  },
  {
   "cell_type": "markdown",
   "metadata": {},
   "source": [
    "####  Southern Hemisphere - Wind Speed (mph) vs. Latitude Linear Regression"
   ]
  },
  {
   "cell_type": "code",
   "execution_count": 61,
   "metadata": {},
   "outputs": [
    {
     "name": "stdout",
     "output_type": "stream",
     "text": [
      "R squared: 0.11162746974768076\n"
     ]
    },
    {
     "data": {
      "image/png": "[encoded data removed]",
      "text/plain": [
       "<Figure size 432x288 with 1 Axes>"
      ]
     },
     "metadata": {
      "needs_background": "light"
     },
     "output_type": "display_data"
    }
   ],
   "source": [
    "x_values = southern_hemi['Wind Speed'].astype('float')\n",
    "y_values = southern_hemi['Latitude'].astype('float')\n",
    "\n",
    "# Run linear regression\n",
    "(slope, intercept, rvalue, pvalue, stderr) = linregress(x_values, y_values)\n",
    "regress_values = x_values * slope + intercept\n",
    "line_eq = \"y = \" + str(round(slope,2)) + \"x + \" + str(round(intercept,2))\n",
    "\n",
    "# Plot scatter plot\n",
    "plt.scatter(x_values,y_values)\n",
    "\n",
    "# Plot regression line\n",
    "plt.plot(x_values,regress_values,\"r-\")\n",
    "plt.annotate(line_eq,(6,10),fontsize=15,color=\"red\")\n",
    "\n",
    "# Label plot\n",
    "plt.xlabel('Wind Speed (mph)')\n",
    "plt.ylabel('Latitude')\n",
    "plt.title('Wind Speed vs Latitude Linear Regression (Southern)')\n",
    "# Print r square value\n",
    "print(f\"R squared: {rvalue**2}\")\n",
    "plt.savefig('southern_windspeed_latitude')\n",
    "# Show plot\n",
    "plt.show()\n"
   ]
  },
  {
   "cell_type": "code",
   "execution_count": null,
   "metadata": {},
   "outputs": [],
   "source": [
    "# This one is a bit more obscure though the linear regression shows a similar relationship; as the latitudes\n",
    "# get closer to the south pole, the wind speed tends to drop off a bit."
   ]
  }
 ],
 "metadata": {
  "anaconda-cloud": {},
  "kernel_info": {
   "name": "python3"
  },
  "kernelspec": {
   "display_name": "PythonData",
   "language": "python",
   "name": "pythondata"
  },
  "language_info": {
   "codemirror_mode": {
    "name": "ipython",
    "version": 3
   },
   "file_extension": ".py",
   "mimetype": "text/x-python",
   "name": "python",
   "nbconvert_exporter": "python",
   "pygments_lexer": "ipython3",
   "version": "3.6.10"
  },
  "latex_envs": {
   "LaTeX_envs_menu_present": true,
   "autoclose": false,
   "autocomplete": true,
   "bibliofile": "biblio.bib",
   "cite_by": "apalike",
   "current_citInitial": 1,
   "eqLabelWithNumbers": true,
   "eqNumInitial": 1,
   "hotkeys": {
    "equation": "Ctrl-E",
    "itemize": "Ctrl-I"
   },
   "labels_anchors": false,
   "latex_user_defs": false,
   "report_style_numbering": false,
   "user_envs_cfg": false
  },
  "nteract": {
   "version": "0.12.3"
  }
 },
 "nbformat": 4,
 "nbformat_minor": 4
}
